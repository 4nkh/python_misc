{
 "cells": [
  {
   "cell_type": "markdown",
   "metadata": {},
   "source": [
    "# Remove background image"
   ]
  },
  {
   "cell_type": "code",
   "execution_count": null,
   "metadata": {},
   "outputs": [],
   "source": [
    "# !pip install gTTS\n",
    "# !pip install PyPDF2\n",
    "# !pip install audioplayer"
   ]
  },
  {
   "cell_type": "code",
   "execution_count": 8,
   "metadata": {},
   "outputs": [],
   "source": [
    "from gtts import gTTS\n",
    "import PyPDF2\n",
    "from audioplayer import AudioPlayer"
   ]
  },
  {
   "cell_type": "code",
   "execution_count": 9,
   "metadata": {},
   "outputs": [],
   "source": [
    "path = open('pdf_sample.pdf', 'rb')\n",
    "# pdfReader = PyPDF2.PdfFileReader(path) # deprecated\n",
    "pdfReader = PyPDF2.PdfReader(path)\n",
    "\n",
    "# for 1 page\n",
    "# page_content = pdfReader.getPage(0) # deprecated\n",
    "# page_content = pdfReader.pages[0]\n",
    "\n",
    "# text = page_content.extractText() # deprecated\n",
    "# text = page_content.extract_text()\n",
    "\n",
    "# For multiple pages\n",
    "number_of_pages = 2\n",
    "page_content=\"\"\n",
    "for page_number in range(number_of_pages):\n",
    "    page = pdfReader.pages[page_number]\n",
    "    page_content += page.extract_text()"
   ]
  },
  {
   "cell_type": "code",
   "execution_count": 10,
   "metadata": {},
   "outputs": [],
   "source": [
    "# No male voice for some locale\n",
    "engin = gTTS(page_content, lang=\"fr\", tld='ca', slow=False)\n",
    "engin.save('pdf_sample.mp3')\n"
   ]
  },
  {
   "cell_type": "code",
   "execution_count": null,
   "metadata": {},
   "outputs": [],
   "source": [
    "# Playback stops when the object is destroyed (GC'ed), \n",
    "# so save a reference to the object for non-blocking playback.\n",
    "AudioPlayer(\"pdf_sample.mp3\").play(block=True)"
   ]
  }
 ],
 "metadata": {
  "kernelspec": {
   "display_name": "ai_env",
   "language": "python",
   "name": "python3"
  },
  "language_info": {
   "codemirror_mode": {
    "name": "ipython",
    "version": 3
   },
   "file_extension": ".py",
   "mimetype": "text/x-python",
   "name": "python",
   "nbconvert_exporter": "python",
   "pygments_lexer": "ipython3",
   "version": "3.12.3"
  }
 },
 "nbformat": 4,
 "nbformat_minor": 2
}
