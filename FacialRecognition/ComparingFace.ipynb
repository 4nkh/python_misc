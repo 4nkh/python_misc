{
 "cells": [
  {
   "cell_type": "code",
   "execution_count": 4,
   "metadata": {},
   "outputs": [
    {
     "data": {
      "text/plain": [
       "[True]"
      ]
     },
     "execution_count": 4,
     "metadata": {},
     "output_type": "execute_result"
    }
   ],
   "source": [
    "import face_recognition\n",
    "known_image = face_recognition.load_image_file(\"images/moi.png\")\n",
    "unknown_image = face_recognition.load_image_file(\"validation/moi_2.jpg\")\n",
    "\n",
    "known_image_encoding = face_recognition.face_encodings(known_image)[0]\n",
    "unknown_encoding = face_recognition.face_encodings(unknown_image)[0]\n",
    "\n",
    "results = face_recognition.compare_faces([known_image_encoding], unknown_encoding)\n",
    "results\n"
   ]
  },
  {
   "cell_type": "code",
   "execution_count": null,
   "metadata": {},
   "outputs": [
    {
     "name": "stdout",
     "output_type": "stream",
     "text": [
      "The test image has a distance of 0.85 from known image #0\n",
      "- comparing with a tolerance of 0.6? False\n",
      "[14.9939 19.7   ]\n",
      "The test image has a distance of 0.8 from known image #1\n",
      "- comparing with a tolerance of 0.6? False\n",
      "[14.9939 19.7   ]\n"
     ]
    }
   ],
   "source": [
    "import numpy\n",
    "\n",
    "known_encodings = [\n",
    "    known_image_encoding,\n",
    "    unknown_encoding\n",
    "]\n",
    "face_distances = face_recognition.face_distance(known_encodings, image_to_test_encoding)\n",
    "\n",
    "face_match_percentage = (1-face_distances)*100\n",
    "for i, face_distance in enumerate(face_distances):\n",
    "    print(\"The test image has a distance of {:.2} from known image #{}\".format(face_distance, i))\n",
    "\n",
    "    print(\"- comparing with a tolerance of 0.6? {}\".format(face_distance < 0.6))\n",
    "    \n",
    "    print (numpy.round(face_match_percentage,4)) #upto 4 decimal places"
   ]
  },
  {
   "cell_type": "code",
   "execution_count": null,
   "metadata": {},
   "outputs": [
    {
     "name": "stdout",
     "output_type": "stream",
     "text": [
      "The test image has a distance of 0.71 from known image #0\n",
      "- With a normal cutoff of 0.6, would the test image match the known image? False\n",
      "- With a very strict cutoff of 0.5, would the test image match the known image? False\n",
      "\n",
      "The test image has a distance of 0.83 from known image #1\n",
      "- With a normal cutoff of 0.6, would the test image match the known image? False\n",
      "- With a very strict cutoff of 0.5, would the test image match the known image? False\n",
      "\n",
      "The test image has a distance of 0.49 from known image #2\n",
      "- With a normal cutoff of 0.6, would the test image match the known image? True\n",
      "- With a very strict cutoff of 0.5, would the test image match the known image? True\n",
      "\n"
     ]
    }
   ],
   "source": [
    "import face_recognition\n",
    "# from PIL import Image, ImageDraw, ImageFont\n",
    "\n",
    "\n",
    "# Often instead of just checking if two faces match or not (True or False), it's helpful to see how similar they are.\n",
    "# You can do that by using the face_distance function.\n",
    "\n",
    "# The model was trained in a way that faces with a distance of 0.6 or less should be a match. But if you want to\n",
    "# be more strict, you can look for a smaller face distance. For example, using a 0.55 cutoff would reduce false\n",
    "# positive matches at the risk of more false negatives.\n",
    "\n",
    "# Note: This isn't exactly the same as a \"percent match\". The scale isn't linear. But you can assume that images with a\n",
    "# smaller distance are more similar to each other than ones with a larger distance.\n",
    "\n",
    "# Load some images to compare against\n",
    "# ALL FACES\n",
    "# known_mathieu_image = face_recognition.load_image_file(\"output/moi.png_354.jpg\")\n",
    "# known_bob_image = face_recognition.load_image_file(\"output/bob&julian.webp_32.jpg\")\n",
    "# known_julian_image = face_recognition.load_image_file(\"output/bob&julian.webp_66.jpg\")\n",
    "# known_bigBougon_image = face_recognition.load_image_file(\"output/bougon.jpg_46.jpg\")\n",
    "# known_laPute_image = face_recognition.load_image_file(\"output/bougon.jpg_66.jpg\")\n",
    "# known_lePere_image = face_recognition.load_image_file(\"output/bougon.jpg_70.jpg\")\n",
    "# known_monOncle_image = face_recognition.load_image_file(\"output/bougon.jpg_78.jpg\")\n",
    "# known_laMere_image = face_recognition.load_image_file(\"output/bougon.jpg_94.jpg\")\n",
    "# known_asian_image = face_recognition.load_image_file(\"output/bougon.jpg_106.jpg\")\n",
    "# known_failDroite_image = face_recognition.load_image_file(\"output/EPIC-FAIL.jpg_86.jpg\")\n",
    "# known_failWomen_image = face_recognition.load_image_file(\"output/EPIC-FAIL.jpg_101.jpg\")\n",
    "# known_failbasGauche_image = face_recognition.load_image_file(\"output/EPIC-FAIL.jpg_355.jpg\")\n",
    "# BIG IMAGES\n",
    "# known_mathieu_image = face_recognition.load_image_file(\"images/moi.png\")\n",
    "# known_bobETjulian_image = face_recognition.load_image_file(\"images/bob&julian.webp\")\n",
    "# known_bougon_image = face_recognition.load_image_file(\"images/bougon.jpg\")\n",
    "# known_epic_image = face_recognition.load_image_file(\"images/EPIC-FAIL.jpg\")\n",
    "Bob_image = face_recognition.load_image_file(\"validation/Bob.webp\")\n",
    "Julian_image = face_recognition.load_image_file(\"validation/Julian.webp\")\n",
    "Mathieu_image = face_recognition.load_image_file(\"validation/moi_2.jpg\")\n",
    "\n",
    "\n",
    "# Get the face encodings for the known images\n",
    "Bob_encoding = face_recognition.face_encodings(Bob_image)[0]\n",
    "Julian_encoding = face_recognition.face_encodings(Julian_image)[0]\n",
    "Mathieu_encoding = face_recognition.face_encodings(Mathieu_image)[0]\n",
    "\n",
    "\n",
    "known_encodings = [\n",
    "    Bob_encoding,\n",
    "    Julian_encoding,\n",
    "    Mathieu_encoding\n",
    "]\n",
    "\n",
    "# Load a test image and get encondings for it\n",
    "# image_to_test = face_recognition.load_image_file(\"images/moi.png\")\n",
    "image_to_test = face_recognition.load_image_file(\"images/bob&julian.webp\")\n",
    "image_to_test_encoding = face_recognition.face_encodings(image_to_test)[0]\n",
    "# image_to_test_encoding = face_recognition.face_encodings(image_to_test)[1]\n",
    "\n",
    "# See how far apart the test image is from the known faces\n",
    "face_distances = face_recognition.face_distance(known_encodings, image_to_test_encoding)\n",
    "\n",
    "for i, face_distance in enumerate(face_distances):\n",
    "    print(\"The test image has a distance of {:.2} from known image #{}\".format(face_distance, i))\n",
    "    print(\"- With a normal cutoff of 0.6, would the test image match the known image? {}\".format(face_distance < 0.6))\n",
    "    print(\"- With a very strict cutoff of 0.5, would the test image match the known image? {}\".format(face_distance < 0.5))\n",
    "    print()"
   ]
  }
 ],
 "metadata": {
  "kernelspec": {
   "display_name": "ai_env",
   "language": "python",
   "name": "python3"
  },
  "language_info": {
   "codemirror_mode": {
    "name": "ipython",
    "version": 3
   },
   "file_extension": ".py",
   "mimetype": "text/x-python",
   "name": "python",
   "nbconvert_exporter": "python",
   "pygments_lexer": "ipython3",
   "version": "3.12.9"
  }
 },
 "nbformat": 4,
 "nbformat_minor": 2
}
