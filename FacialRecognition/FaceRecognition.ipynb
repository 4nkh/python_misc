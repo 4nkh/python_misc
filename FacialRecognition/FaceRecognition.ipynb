{
 "cells": [
  {
   "cell_type": "code",
   "execution_count": 78,
   "metadata": {},
   "outputs": [],
   "source": [
    "# import face_recognition\n",
    "# import cv2\n",
    "# image = face_recognition.load_image_file(\"images/moi.png\")\n",
    "# face_locations = face_recognition.face_locations(image)\n",
    "# face_locations"
   ]
  },
  {
   "cell_type": "code",
   "execution_count": 79,
   "metadata": {},
   "outputs": [],
   "source": [
    "# for (x, y, w, h) in face_locations:\n",
    "#     cv2.rectangle(face_locations, (x, y), (x + w, y + h), (0, 255, 0), 4)"
   ]
  },
  {
   "cell_type": "code",
   "execution_count": 80,
   "metadata": {},
   "outputs": [],
   "source": [
    "import face_recognition\n",
    "from PIL import Image, ImageDraw, ImageFont\n",
    "import os"
   ]
  },
  {
   "cell_type": "code",
   "execution_count": 81,
   "metadata": {},
   "outputs": [],
   "source": [
    "# import face_recognition\n",
    "# from PIL import Image\n",
    "# import os\n",
    "\n",
    "unknown_faces = os.listdir(\"images/\")\n",
    "\n",
    "for image in unknown_faces:\n",
    "    image_of_people = face_recognition.load_image_file(f\"images/{image}\")\n",
    "    unknown_face_locations = face_recognition.face_locations(image_of_people)\n",
    "\n",
    "    for face_location in unknown_face_locations:\n",
    "        top, right, bottom, left = face_location\n",
    "\n",
    "        face_image = image_of_people[top:bottom, left:right]\n",
    "        pil_image = Image.fromarray(face_image)\n",
    "        pil_image.save(f\"output/{image}_{top}.jpg\")"
   ]
  },
  {
   "cell_type": "code",
   "execution_count": 82,
   "metadata": {},
   "outputs": [],
   "source": [
    "# import face_recognition\n",
    "# import os\n",
    "# from PIL import Image, ImageDraw, ImageFont\n",
    "\n",
    "unknown_faces = os.listdir(\"images/\")\n",
    "Bob_image = face_recognition.load_image_file(\"validation/Bob.webp\")\n",
    "Bob_encoding = face_recognition.face_encodings(Bob_image)[0]\n",
    "Julian_image = face_recognition.load_image_file(\"validation/Julian.webp\")\n",
    "Julian_encoding = face_recognition.face_encodings(Julian_image)[0]\n",
    "Mathieu_image = face_recognition.load_image_file(\"validation/moi_2.jpg\")\n",
    "Mathieu_encoding = face_recognition.face_encodings(Mathieu_image)[0]\n",
    "\n",
    "known_face_encodings = [\n",
    "    Bob_encoding,\n",
    "    Julian_encoding,\n",
    "    Mathieu_encoding,\n",
    "]\n",
    "\n",
    "known_face_names = [\n",
    "    \"Bob\",\n",
    "    \"Julian\",\n",
    "    \"Mathieu\"\n",
    "]\n",
    "\n",
    "for ukface in unknown_faces:\n",
    "    ukimage = face_recognition.load_image_file(f\"images/{ukface}\") # r = raw STRING, le f = fSTRING (format ... donc inclu du code à l'intérieur)\n",
    "    ukface_locations = face_recognition.face_locations(ukimage)\n",
    "    ukface_encodings = face_recognition.face_encodings(ukimage, ukface_locations)\n",
    "\n",
    "    # Convert to PIL format\n",
    "    pil_image = Image.fromarray(ukimage)\n",
    "\n",
    "    # Set up drawing on image\n",
    "    draw = ImageDraw.Draw(pil_image)\n",
    "    for (top, right, bottom, left), ukface_encoding in zip(\n",
    "        ukface_locations, ukface_encodings\n",
    "    ):\n",
    "        matches = face_recognition.compare_faces(known_face_encodings, ukface_encoding)\n",
    "\n",
    "        name = \"Unknown\"\n",
    "\n",
    "        if True in matches:\n",
    "            first_match_index = matches.index(True)\n",
    "            name = known_face_names[first_match_index]\n",
    "\n",
    "        # Draw Box\n",
    "        draw.rectangle(\n",
    "            ((left - 10, top - 10), (right + 10, bottom + 10)), outline=(227, 236, 75)\n",
    "        )\n",
    "\n",
    "        # Draw Label\n",
    "        # deprecated = textsize\n",
    "        # w = draw.textlength(text, font=font)\n",
    "        # h = fontSize * rows\n",
    "        # text_width, text_height = draw.textsize(name)\n",
    "\n",
    "        # font = ImageFont.truetype(r'C:\\Users\\System-Pc\\Desktop\\arial.ttf', 70) \n",
    "        font = ImageFont.truetype('fonts/oswald/Oswald-Bold.ttf', 15)\n",
    "        \n",
    "        # textTest = \"Exemple de texte\"\n",
    "\n",
    "        # # Obtenir la boîte englobante du texte\n",
    "        # bbox = draw.textbbox((0, 0), textTest, font=font)\n",
    "        # fontSize = bbox[3] - bbox[1]\n",
    "        # rows = 1\n",
    "\n",
    "        text_width = draw.textlength(name, font=font)\n",
    "        text_height = 15 #fontSize * rows\n",
    "        draw.rectangle(\n",
    "            ((left - 10, bottom - text_height + 2), (right + 10, bottom + 10)),\n",
    "            fill=(227, 236, 75),\n",
    "            outline=(227, 236, 75),\n",
    "        )\n",
    "        draw.text((left, bottom - text_height + 5), name, fill=(0, 0, 0, 0))\n",
    "\n",
    "    del draw\n",
    "    pil_image.save(f\"identified/{ukface}_scanned.jpg\")\n",
    "    pil_image.show()"
   ]
  }
 ],
 "metadata": {
  "kernelspec": {
   "display_name": "ai_env",
   "language": "python",
   "name": "python3"
  },
  "language_info": {
   "codemirror_mode": {
    "name": "ipython",
    "version": 3
   },
   "file_extension": ".py",
   "mimetype": "text/x-python",
   "name": "python",
   "nbconvert_exporter": "python",
   "pygments_lexer": "ipython3",
   "version": "3.12.3"
  }
 },
 "nbformat": 4,
 "nbformat_minor": 2
}
