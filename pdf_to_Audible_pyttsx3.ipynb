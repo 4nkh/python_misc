{
 "cells": [
  {
   "cell_type": "markdown",
   "metadata": {},
   "source": [
    "# Remove background image"
   ]
  },
  {
   "cell_type": "code",
   "execution_count": null,
   "metadata": {},
   "outputs": [],
   "source": [
    "# !pip install gTTS\n",
    "# !pip install pyttsx3\n",
    "# !pip install PyPDF2"
   ]
  },
  {
   "cell_type": "code",
   "execution_count": 2,
   "metadata": {},
   "outputs": [],
   "source": [
    "import pyttsx3\n",
    "import PyPDF2"
   ]
  },
  {
   "cell_type": "code",
   "execution_count": null,
   "metadata": {},
   "outputs": [],
   "source": [
    "path = open('pdf_sample.pdf', 'rb')\n",
    "# pdfReader = PyPDF2.PdfFileReader(path) # deprecated\n",
    "pdfReader = PyPDF2.PdfReader(path)\n",
    "\n",
    "# for 1 page\n",
    "# page_content = pdfReader.getPage(0) # deprecated\n",
    "# page_content = pdfReader.pages[0]\n",
    "\n",
    "# text = page_content.extractText() # deprecated\n",
    "# text = page_content.extract_text()\n",
    "\n",
    "# For multiple pages\n",
    "number_of_pages = 2\n",
    "page_content=\"\"\n",
    "for page_number in range(number_of_pages):\n",
    "    page = pdfReader.pages[page_number]\n",
    "    page_content += page.extract_text()"
   ]
  },
  {
   "cell_type": "markdown",
   "metadata": {},
   "source": [
    "<Voice id=com.apple.voice.compact.fr-CA.Amelie\n",
    "          name=Amélie\n",
    "          languages=['fr_CA']\n",
    "          gender=VoiceGenderFemale\n",
    "          age=None>"
   ]
  },
  {
   "cell_type": "code",
   "execution_count": 14,
   "metadata": {},
   "outputs": [],
   "source": [
    "engin = pyttsx3.init()\n",
    "engin.setProperty('voice', \"com.apple.voice.compact.fr-CA.Amelie\")\n",
    "engin.setProperty('rate', 160)\n",
    "engin.say(page_content)\n",
    "engin.runAndWait()"
   ]
  },
  {
   "cell_type": "markdown",
   "metadata": {},
   "source": [
    "## Note:"
   ]
  },
  {
   "cell_type": "markdown",
   "metadata": {},
   "source": [
    "clcoding.com"
   ]
  }
 ],
 "metadata": {
  "kernelspec": {
   "display_name": "ai_env",
   "language": "python",
   "name": "python3"
  },
  "language_info": {
   "codemirror_mode": {
    "name": "ipython",
    "version": 3
   },
   "file_extension": ".py",
   "mimetype": "text/x-python",
   "name": "python",
   "nbconvert_exporter": "python",
   "pygments_lexer": "ipython3",
   "version": "3.12.3"
  }
 },
 "nbformat": 4,
 "nbformat_minor": 2
}
